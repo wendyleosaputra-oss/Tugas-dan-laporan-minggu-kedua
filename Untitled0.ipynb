{
  "nbformat": 4,
  "nbformat_minor": 0,
  "metadata": {
    "colab": {
      "provenance": [],
      "authorship_tag": "ABX9TyNj9hsLVDZwD+xHRjoC5UnQ",
      "include_colab_link": true
    },
    "kernelspec": {
      "name": "python3",
      "display_name": "Python 3"
    },
    "language_info": {
      "name": "python"
    }
  },
  "cells": [
    {
      "cell_type": "markdown",
      "metadata": {
        "id": "view-in-github",
        "colab_type": "text"
      },
      "source": [
        "<a href=\"https://colab.research.google.com/github/wendyleosaputra-oss/Tugas-dan-laporan-minggu-kedua/blob/main/Untitled0.ipynb\" target=\"_parent\"><img src=\"https://colab.research.google.com/assets/colab-badge.svg\" alt=\"Open In Colab\"/></a>"
      ]
    },
    {
      "cell_type": "markdown",
      "source": [
        "Tugas kedua minggu kedua data (dict)"
      ],
      "metadata": {
        "id": "khEDRcDJ7lVO"
      }
    },
    {
      "cell_type": "code",
      "execution_count": 6,
      "metadata": {
        "id": "aNsB497fqtFh",
        "colab": {
          "base_uri": "https://localhost:8080/"
        },
        "outputId": "ac2a6393-b8e5-417d-c491-88edae812769"
      },
      "outputs": [
        {
          "output_type": "stream",
          "name": "stdout",
          "text": [
            "Nama depan: Wendy\n",
            "Nama belakang: leo_saputra\n",
            "umur: 19\n",
            "Sudah menikah: False\n"
          ]
        }
      ],
      "source": [
        "#Data_diri\n",
        "Biodata_sendiri: dict[str,bool,int] = {\n",
        "    \"firstname\":\"Wendy\",\n",
        "    \"lastname\":\"leo_saputra\",\n",
        "    \"age\":19,\n",
        "    \"isMarried\":False\n",
        "}\n",
        "\n",
        "print(\"Nama depan:\",Biodata_sendiri[\"firstname\"])\n",
        "print(\"Nama belakang:\",Biodata_sendiri[\"lastname\"])\n",
        "print(\"umur:\",Biodata_sendiri[\"age\"])\n",
        "print(\"Sudah menikah:\",Biodata_sendiri[\"isMarried\"])"
      ]
    },
    {
      "cell_type": "markdown",
      "source": [
        "Tugas pertama minggu kedua"
      ],
      "metadata": {
        "id": "pqyPqEgC_a15"
      }
    },
    {
      "cell_type": "code",
      "source": [
        "#Data_diri\n",
        "firstname: str = \"Wendy\"\n",
        "lastname: str = \"leo_saputra\"\n",
        "age: int = 19\n",
        "isMarried: bool = False\n",
        "\n",
        "print(\"Nama depan:\",firstname)\n",
        "print(\"Nama belakang:\",lastname)\n",
        "print(\"umur:\",age)\n",
        "print(\"Sudah menikah:\",isMarried)"
      ],
      "metadata": {
        "id": "kybhhm3D7ka-",
        "colab": {
          "base_uri": "https://localhost:8080/"
        },
        "outputId": "a0e804cc-3b5e-40b6-d7da-e2f61a17e78a"
      },
      "execution_count": 7,
      "outputs": [
        {
          "output_type": "stream",
          "name": "stdout",
          "text": [
            "Nama depan: Wendy\n",
            "Nama belakang: leo_saputra\n",
            "umur: 19\n",
            "Sudah menikah: False\n"
          ]
        }
      ]
    },
    {
      "cell_type": "markdown",
      "source": [],
      "metadata": {
        "id": "gr3Okk3K-81g"
      }
    },
    {
      "cell_type": "markdown",
      "source": [
        "Tugas ketiga variable ketiga data list minggu kedua"
      ],
      "metadata": {
        "id": "XwB2Z0WfB00A"
      }
    },
    {
      "cell_type": "code",
      "source": [
        "inpeksi = [\n",
        "    \"pemahaman terhadap rencana dan desain\",\n",
        "    \"ketersediaan bahan dan peralatan\",\n",
        "    \"pengawasan pekerjaan\",\n",
        "    \"kualitas kontruksi\",\n",
        "    \"keselamatan kerja\",\n",
        "    \"koordinasi dengan pemilik proyek\"\n",
        "]\n",
        "\n",
        "print(inpeksi)"
      ],
      "metadata": {
        "colab": {
          "base_uri": "https://localhost:8080/"
        },
        "id": "-4WqrKPT_ui2",
        "outputId": "db88da07-536f-43bb-8ff2-58f15f99ad6e"
      },
      "execution_count": 9,
      "outputs": [
        {
          "output_type": "stream",
          "name": "stdout",
          "text": [
            "['pemahaman terhadap rencana dan desain', 'ketersediaan bahan dan peralatan', 'pengawasan pekerjaan', 'kualitas kontruksi', 'keselamatan kerja', 'koordinasi dengan pemilik proyek']\n"
          ]
        }
      ]
    },
    {
      "cell_type": "markdown",
      "source": [
        "Tugas ke empat minggu ke kedua"
      ],
      "metadata": {
        "id": "b0ddBZ-BFIzV"
      }
    },
    {
      "cell_type": "code",
      "source": [
        "#waktu datang\n",
        "startTime = {\n",
        "    \"HH\": 9,\n",
        "    \"mm\": 23,\n",
        "    \"ss\": 57\n",
        "}\n",
        "\n",
        "#waktu pulang\n",
        "endTime = {\n",
        "    \"HH\": 15,\n",
        "    \"mm\": 25,\n",
        "    \"ss\": 43\n",
        "}\n",
        "\n",
        "print(\"Waktu Datang: \",startTime)\n",
        "print(\"Waktu Pulang: \",endTime)"
      ],
      "metadata": {
        "colab": {
          "base_uri": "https://localhost:8080/"
        },
        "id": "7uXKONFGCHPX",
        "outputId": "56240b93-7c8f-4386-f12b-06c0c482734b"
      },
      "execution_count": 12,
      "outputs": [
        {
          "output_type": "stream",
          "name": "stdout",
          "text": [
            "Waktu Datang:  {'HH': 9, 'mm': 23, 'ss': 57}\n",
            "Waktu Pulang:  {'HH': 15, 'mm': 25, 'ss': 43}\n"
          ]
        }
      ]
    },
    {
      "cell_type": "code",
      "source": [
        "#PENGGABUNGAN DAN ANALISIS KATALOG PRODUK\n",
        "katalog_A = {\"nasi goreng\",\"mie ayam\",\"ayam penyet\"}\n",
        "katalog_B = {\"mesin waktu\",\"alat pembawa kebahagiaan\",\"alat pengubah masa lalu\"}\n",
        "\n",
        "produk_diskon = (\"nasi goreng\",\"mie ayam\",\"ayam penyet\")\n",
        "\n",
        "katalog_lengkap = katalog_A.union(katalog_B)\n",
        "\n",
        "print(\"katalog lengkap: \",katalog_lengkap)\n",
        "\n",
        "produk_promo_aktif = katalog_lengkap.intersection(set(produk_diskon))\n",
        "print(\"produk promo aktif :\",produk_promo_aktif)\n"
      ],
      "metadata": {
        "colab": {
          "base_uri": "https://localhost:8080/"
        },
        "id": "tmNuH957FVH2",
        "outputId": "8aad040f-cd56-4d35-cc00-341da6de3713"
      },
      "execution_count": 15,
      "outputs": [
        {
          "output_type": "stream",
          "name": "stdout",
          "text": [
            "katalog lengkap:  {'nasi goreng', 'mesin waktu', 'mie ayam', 'ayam penyet', 'alat pembawa kebahagiaan', 'alat pengubah masa lalu'}\n",
            "produk promo aktif : {'nasi goreng', 'mie ayam', 'ayam penyet'}\n"
          ]
        }
      ]
    }
  ]
}