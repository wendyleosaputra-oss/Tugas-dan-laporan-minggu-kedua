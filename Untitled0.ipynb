{
  "nbformat": 4,
  "nbformat_minor": 0,
  "metadata": {
    "colab": {
      "provenance": [],
      "authorship_tag": "ABX9TyPjAj5lwrKYPdHuWgeTlY9b",
      "include_colab_link": true
    },
    "kernelspec": {
      "name": "python3",
      "display_name": "Python 3"
    },
    "language_info": {
      "name": "python"
    }
  },
  "cells": [
    {
      "cell_type": "markdown",
      "metadata": {
        "id": "view-in-github",
        "colab_type": "text"
      },
      "source": [
        "<a href=\"https://colab.research.google.com/github/wendyleosaputra-oss/Tugas-dan-laporan-minggu-kedua/blob/main/Untitled0.ipynb\" target=\"_parent\"><img src=\"https://colab.research.google.com/assets/colab-badge.svg\" alt=\"Open In Colab\"/></a>"
      ]
    },
    {
      "cell_type": "markdown",
      "source": [
        "Tugas kedua minggu kedua data (dict)"
      ],
      "metadata": {
        "id": "khEDRcDJ7lVO"
      }
    },
    {
      "cell_type": "code",
      "execution_count": null,
      "metadata": {
        "id": "aNsB497fqtFh",
        "colab": {
          "base_uri": "https://localhost:8080/"
        },
        "outputId": "ac2a6393-b8e5-417d-c491-88edae812769"
      },
      "outputs": [
        {
          "output_type": "stream",
          "name": "stdout",
          "text": [
            "Nama depan: Wendy\n",
            "Nama belakang: leo_saputra\n",
            "umur: 19\n",
            "Sudah menikah: False\n"
          ]
        }
      ],
      "source": [
        "#Data_diri\n",
        "Biodata_sendiri: dict[str,bool,int] = {\n",
        "    \"firstname\":\"Wendy\",\n",
        "    \"lastname\":\"leo_saputra\",\n",
        "    \"age\":19,\n",
        "    \"isMarried\":False\n",
        "}\n",
        "\n",
        "print(\"Nama depan:\",Biodata_sendiri[\"firstname\"])\n",
        "print(\"Nama belakang:\",Biodata_sendiri[\"lastname\"])\n",
        "print(\"umur:\",Biodata_sendiri[\"age\"])\n",
        "print(\"Sudah menikah:\",Biodata_sendiri[\"isMarried\"])"
      ]
    },
    {
      "cell_type": "markdown",
      "source": [
        "Tugas pertama minggu kedua"
      ],
      "metadata": {
        "id": "pqyPqEgC_a15"
      }
    },
    {
      "cell_type": "code",
      "source": [
        "#Data_diri\n",
        "firstname: str = \"Wendy\"\n",
        "lastname: str = \"leo_saputra\"\n",
        "age: int = 19\n",
        "isMarried: bool = False\n",
        "\n",
        "print(\"Nama depan:\",firstname)\n",
        "print(\"Nama belakang:\",lastname)\n",
        "print(\"umur:\",age)\n",
        "print(\"Sudah menikah:\",isMarried)"
      ],
      "metadata": {
        "id": "kybhhm3D7ka-",
        "colab": {
          "base_uri": "https://localhost:8080/"
        },
        "outputId": "a0e804cc-3b5e-40b6-d7da-e2f61a17e78a"
      },
      "execution_count": null,
      "outputs": [
        {
          "output_type": "stream",
          "name": "stdout",
          "text": [
            "Nama depan: Wendy\n",
            "Nama belakang: leo_saputra\n",
            "umur: 19\n",
            "Sudah menikah: False\n"
          ]
        }
      ]
    },
    {
      "cell_type": "markdown",
      "source": [],
      "metadata": {
        "id": "gr3Okk3K-81g"
      }
    },
    {
      "cell_type": "markdown",
      "source": [
        "Tugas ketiga variable ketiga data list minggu kedua"
      ],
      "metadata": {
        "id": "XwB2Z0WfB00A"
      }
    },
    {
      "cell_type": "code",
      "source": [
        "inpeksi = [\n",
        "    \"pemahaman terhadap rencana dan desain\",\n",
        "    \"ketersediaan bahan dan peralatan\",\n",
        "    \"pengawasan pekerjaan\",\n",
        "    \"kualitas kontruksi\",\n",
        "    \"keselamatan kerja\",\n",
        "    \"koordinasi dengan pemilik proyek\"\n",
        "]\n",
        "\n",
        "print(inpeksi)"
      ],
      "metadata": {
        "colab": {
          "base_uri": "https://localhost:8080/"
        },
        "id": "-4WqrKPT_ui2",
        "outputId": "db88da07-536f-43bb-8ff2-58f15f99ad6e"
      },
      "execution_count": null,
      "outputs": [
        {
          "output_type": "stream",
          "name": "stdout",
          "text": [
            "['pemahaman terhadap rencana dan desain', 'ketersediaan bahan dan peralatan', 'pengawasan pekerjaan', 'kualitas kontruksi', 'keselamatan kerja', 'koordinasi dengan pemilik proyek']\n"
          ]
        }
      ]
    },
    {
      "cell_type": "markdown",
      "source": [
        "Tugas ke empat minggu ke kedua"
      ],
      "metadata": {
        "id": "b0ddBZ-BFIzV"
      }
    },
    {
      "cell_type": "code",
      "source": [
        "#waktu datang\n",
        "startTime = {\n",
        "    \"HH\": 9,\n",
        "    \"mm\": 23,\n",
        "    \"ss\": 57\n",
        "}\n",
        "\n",
        "#waktu pulang\n",
        "endTime = {\n",
        "    \"HH\": 15,\n",
        "    \"mm\": 25,\n",
        "    \"ss\": 43\n",
        "}\n",
        "\n",
        "print(\"Waktu Datang: \",startTime)\n",
        "print(\"Waktu Pulang: \",endTime)"
      ],
      "metadata": {
        "colab": {
          "base_uri": "https://localhost:8080/"
        },
        "id": "7uXKONFGCHPX",
        "outputId": "56240b93-7c8f-4386-f12b-06c0c482734b"
      },
      "execution_count": null,
      "outputs": [
        {
          "output_type": "stream",
          "name": "stdout",
          "text": [
            "Waktu Datang:  {'HH': 9, 'mm': 23, 'ss': 57}\n",
            "Waktu Pulang:  {'HH': 15, 'mm': 25, 'ss': 43}\n"
          ]
        }
      ]
    },
    {
      "cell_type": "code",
      "source": [
        "#PENGGABUNGAN DAN ANALISIS KATALOG PRODUK\n",
        "katalog_A = {\"nasi goreng\",\"mie ayam\",\"ayam penyet\"}\n",
        "katalog_B = {\"mesin waktu\",\"alat pembawa kebahagiaan\",\"alat pengubah masa lalu\"}\n",
        "\n",
        "produk_diskon = (\"nasi goreng\",\"mie ayam\",\"ayam penyet\")\n",
        "\n",
        "katalog_lengkap = katalog_A.union(katalog_B)\n",
        "\n",
        "print(\"katalog lengkap: \",katalog_lengkap)\n",
        "\n",
        "produk_promo_aktif = katalog_lengkap.intersection(set(produk_diskon))\n",
        "print(\"produk promo aktif :\",produk_promo_aktif)\n"
      ],
      "metadata": {
        "colab": {
          "base_uri": "https://localhost:8080/"
        },
        "id": "tmNuH957FVH2",
        "outputId": "8aad040f-cd56-4d35-cc00-341da6de3713"
      },
      "execution_count": null,
      "outputs": [
        {
          "output_type": "stream",
          "name": "stdout",
          "text": [
            "katalog lengkap:  {'nasi goreng', 'mesin waktu', 'mie ayam', 'ayam penyet', 'alat pembawa kebahagiaan', 'alat pengubah masa lalu'}\n",
            "produk promo aktif : {'nasi goreng', 'mie ayam', 'ayam penyet'}\n"
          ]
        }
      ]
    },
    {
      "cell_type": "code",
      "source": [
        "age = 17\n",
        "salary = 5000000.0\n",
        "print(type(age))\n",
        "print(type(salary))\n",
        "\n",
        "x = 6\n",
        "print(type(x))\n",
        "x = \"6\"\n",
        "print(type(x))\n",
        "\n",
        "x = 6\n",
        "print(type(x))\n",
        "x = 6.0\n",
        "print(type(x))\n",
        "x = 1+2j\n",
        "print(type(x))"
      ],
      "metadata": {
        "colab": {
          "base_uri": "https://localhost:8080/"
        },
        "id": "BAdlFuEWBTp-",
        "outputId": "3e531945-c4dc-4c32-bf19-24619de83bd2"
      },
      "execution_count": 6,
      "outputs": [
        {
          "output_type": "stream",
          "name": "stdout",
          "text": [
            "<class 'int'>\n",
            "<class 'float'>\n",
            "<class 'int'>\n",
            "<class 'str'>\n",
            "<class 'int'>\n",
            "<class 'float'>\n",
            "<class 'complex'>\n"
          ]
        }
      ]
    },
    {
      "cell_type": "code",
      "source": [
        "var = 10\n",
        "print(var)\n",
        "print(id(var))\n",
        "var = 11\n",
        "print(var)\n",
        "print(id(var))\n",
        "\n",
        "X = True\n",
        "print(type(X))\n",
        "X = False\n",
        "print(type(X))\n",
        "\n",
        "x = \"Polibatam\"\n",
        "print(type(x))\n",
        "\n",
        "multiline = \"\"\"haloo kiana!\n",
        "kapan terakhir kali kita ketemu ya ?\n",
        "kita bertemu sudah setahun lalu\n",
        "aku merindukan mu.\"\"\"\n",
        "print(multiline)\n",
        "\n",
        "x = \"polibatam tercinta\"\n",
        "print(x[13])\n",
        "\n",
        "x = \"polibatam\"\n",
        "print(x[2:])\n",
        "\n",
        "name = \"wendy leo saputra\"\n",
        "print(f\"hello, nama saya {name} \")\n",
        "\n",
        "name = \"Wendy Leo Saputra\"\n",
        "print(\"Nama saya %s\" % (name))\n",
        "\n",
        "name = \"Wendy Leo Saputra\"\n",
        "print(\"Nama saya {}\".format(name))\n",
        "name = \"Wendy Leo Saputra\"\n",
        "print(\"Nama saya : \",name)\n"
      ],
      "metadata": {
        "colab": {
          "base_uri": "https://localhost:8080/"
        },
        "id": "suBXD3lRGUe_",
        "outputId": "0d91b226-2d19-4762-a8fe-398e0b8d312a"
      },
      "execution_count": 25,
      "outputs": [
        {
          "output_type": "stream",
          "name": "stdout",
          "text": [
            "10\n",
            "11642376\n",
            "11\n",
            "11642408\n",
            "<class 'bool'>\n",
            "<class 'bool'>\n",
            "<class 'str'>\n",
            "haloo kiana!\n",
            "kapan terakhir kali kita ketemu ya ?\n",
            "kita bertemu sudah setahun lalu \n",
            "aku merindukan mu.\n",
            "c\n",
            "libatam\n",
            "hello, nama saya wendy leo saputra \n",
            "Nama saya Wendy Leo Saputra\n",
            "Nama saya Wendy Leo Saputra\n",
            "Nama saya :  Wendy Leo Saputra\n"
          ]
        }
      ]
    },
    {
      "cell_type": "code",
      "source": [
        "x = [1,2.2,\"polibatam\"]\n",
        "print(type(x))\n",
        "\n",
        "x = (1,2.2,\"dicoding\")\n",
        "print(x)\n",
        "\n",
        "x = [1,\"polibatam\",True,1.0]\n",
        "print(x[2])\n",
        "\n",
        "x = [1,2.2,\"polibatam\"]\n",
        "x[0] = \"indonesia\"\n",
        "print(x)\n",
        "\n",
        "# deklarasi variabel list\n",
        "numbers = [23,43,15,34]\n",
        "#cara mengakses elemen dalam variable list\n",
        "numbers[0] # 23\n",
        "numbers[1] # 43\n",
        "numbers[2] # 15\n",
        "numbers[3] # 34\n",
        "print(numbers[0])\n",
        "print(numbers[1])\n",
        "print(numbers[2])\n",
        "print(numbers[3])\n",
        "\n",
        "#cara mengubah nilai elemen variable dalam list\n",
        "numbers[2] = 15\n",
        "print(numbers)\n",
        "\n",
        "#deklarasi variable list numbers\n",
        "numbers = [1,2,3]\n",
        "#menambahkan elemen di indeks ke-4\n",
        "numbers.insert(4,5)\n",
        "#mengubah elemen di indeks ke-4\n",
        "numbers[3]= 4\n",
        "#Menghapus elemen indeks ke-2\n",
        "numbers.pop(2)\n",
        "print(numbers)\n",
        "\n",
        "# deklarasi variable list\n",
        "mylist = [1,\"rumah\",4.5,True,[\"kamar mandi\",\"kamar tidur\"]]\n",
        "#cara mengakses elemen dalam variable list\n",
        "print(mylist[0])\n",
        "print(mylist[1])\n",
        "print(mylist[2])\n",
        "print(mylist[3])\n",
        "print(mylist[4])\n",
        "#cara mengakses elemen sublist\n",
        "print(mylist[4][0])\n",
        "print(mylist[4][1])"
      ],
      "metadata": {
        "colab": {
          "base_uri": "https://localhost:8080/"
        },
        "id": "1QlI-Qi6GSrq",
        "outputId": "6dcb064f-75b2-4638-aefe-3d0e6107650f"
      },
      "execution_count": 41,
      "outputs": [
        {
          "output_type": "stream",
          "name": "stdout",
          "text": [
            "<class 'list'>\n",
            "(1, 2.2, 'dicoding')\n",
            "True\n",
            "['indonesia', 2.2, 'polibatam']\n",
            "23\n",
            "43\n",
            "15\n",
            "34\n",
            "[23, 43, 15, 34]\n",
            "[1, 2, 4]\n",
            "1\n",
            "rumah\n",
            "4.5\n",
            "True\n",
            "['kamar mandi', 'kamar tidur']\n",
            "kamar mandi\n",
            "kamar tidur\n"
          ]
        }
      ]
    },
    {
      "cell_type": "code",
      "source": [
        "x = [\"laptop\",\"monitor\",\"mouse\",\"mousepad\",\"keyboard\",\"webcam\",\"microphone\"]\n",
        "print(x[0:5:2])\n",
        "print(x[1:])\n",
        "print(x[:3])\n",
        "\n",
        "#data tipe tuple\n",
        "#elemen yang tidak bisa di ubah\n",
        "propertyDetail = (1,\"rumah\",True)\n",
        "x = (1,\"polibatam\",1+3j)\n",
        "x = (5,'program',1+3j)\n",
        "print(propertyDetail)\n",
        "print(type(x))\n",
        "print(x[1])\n",
        "print(x[0:3])\n",
        "\n",
        "x = (5,'program',1+3j)\n",
        "x[1] = 'harapan'"
      ],
      "metadata": {
        "colab": {
          "base_uri": "https://localhost:8080/",
          "height": 297
        },
        "id": "DO2YTY8tjd42",
        "outputId": "6cc9a549-e9e4-4053-ef3f-719ad0132fc1"
      },
      "execution_count": 46,
      "outputs": [
        {
          "output_type": "stream",
          "name": "stdout",
          "text": [
            "['laptop', 'mouse', 'keyboard']\n",
            "['monitor', 'mouse', 'mousepad', 'keyboard', 'webcam', 'microphone']\n",
            "['laptop', 'monitor', 'mouse']\n",
            "(1, 'rumah', True)\n",
            "<class 'tuple'>\n",
            "program\n",
            "(5, 'program', (1+3j))\n"
          ]
        },
        {
          "output_type": "error",
          "ename": "TypeError",
          "evalue": "'tuple' object does not support item assignment",
          "traceback": [
            "\u001b[0;31m---------------------------------------------------------------------------\u001b[0m",
            "\u001b[0;31mTypeError\u001b[0m                                 Traceback (most recent call last)",
            "\u001b[0;32m/tmp/ipython-input-1659136907.py\u001b[0m in \u001b[0;36m<cell line: 0>\u001b[0;34m()\u001b[0m\n\u001b[1;32m     15\u001b[0m \u001b[0;34m\u001b[0m\u001b[0m\n\u001b[1;32m     16\u001b[0m \u001b[0mx\u001b[0m \u001b[0;34m=\u001b[0m \u001b[0;34m(\u001b[0m\u001b[0;36m5\u001b[0m\u001b[0;34m,\u001b[0m\u001b[0;34m'program'\u001b[0m\u001b[0;34m,\u001b[0m\u001b[0;36m1\u001b[0m\u001b[0;34m+\u001b[0m\u001b[0;36m3j\u001b[0m\u001b[0;34m)\u001b[0m\u001b[0;34m\u001b[0m\u001b[0;34m\u001b[0m\u001b[0m\n\u001b[0;32m---> 17\u001b[0;31m \u001b[0mx\u001b[0m\u001b[0;34m[\u001b[0m\u001b[0;36m1\u001b[0m\u001b[0;34m]\u001b[0m \u001b[0;34m=\u001b[0m \u001b[0;34m'harapan'\u001b[0m\u001b[0;34m\u001b[0m\u001b[0;34m\u001b[0m\u001b[0m\n\u001b[0m",
            "\u001b[0;31mTypeError\u001b[0m: 'tuple' object does not support item assignment"
          ]
        }
      ]
    },
    {
      "cell_type": "code",
      "source": [
        "#deklarasi variable tuple\n",
        "numbers = (23,43,15,34)\n",
        "#cara mengakses nya elemen dalam variable tuple\n",
        "print(numbers[0])\n",
        "print(numbers[1])\n",
        "print(numbers[2])\n",
        "print(numbers[3])\n",
        "\n",
        "#data tipe set\n",
        "x = {1,2,7,2,3,13,3}\n",
        "print(x)\n",
        "print(type(x))\n",
        "\n",
        "set1 = {1,2,3,4,5}\n",
        "set2 = {4,5,6,7,8}\n",
        "union = set1.union(set2)\n",
        "print(\"Union\",union)\n",
        "intersection = set1.intersection(set2)\n",
        "print(\"Intersection\",intersection)\n",
        "\n",
        "#deklarasi variable set a dan set b\n",
        "a = {1,2,3}\n",
        "b = {2,3,4}\n",
        "a.union(b)\n",
        "a.intersection(b)\n",
        "a.symmetric_difference(b)\n",
        "print(\"union:\",a.union(b))\n",
        "print(\"intersection:\",a.intersection(b))\n",
        "print(\"symmetric_difference:\",a.symmetric_difference(b))"
      ],
      "metadata": {
        "colab": {
          "base_uri": "https://localhost:8080/"
        },
        "id": "_5oWyXmHxTpr",
        "outputId": "00741b5d-031c-4e88-f678-2bee880db203"
      },
      "execution_count": 50,
      "outputs": [
        {
          "output_type": "stream",
          "name": "stdout",
          "text": [
            "23\n",
            "43\n",
            "15\n",
            "34\n",
            "{1, 2, 3, 7, 13}\n",
            "<class 'set'>\n",
            "Union {1, 2, 3, 4, 5, 6, 7, 8}\n",
            "Intersection {4, 5}\n",
            "union: {1, 2, 3, 4}\n",
            "intersection: {2, 3}\n",
            "symmetric_difference: {1, 4}\n"
          ]
        }
      ]
    },
    {
      "cell_type": "code",
      "source": [
        "#data tipe dictionary\n",
        "x = {'name': 'wendy leo saputra','age':19 ,'isMarried': False}\n",
        "x['job'] = \"Student\"\n",
        "x['name'] = \"Khalid\"\n",
        "\n",
        "print(x)\n",
        "\n",
        "#deklarasi variable dictionary\n",
        "propertyDetail = {\"numfloors\":1,\"propertyType\" : \"rumah\",\"hasTerrace\": True ,\"hasGarage\": False }\n",
        "\n",
        "print(propertyDetail[\"numfloors\"])\n",
        "print(propertyDetail[\"propertyType\"])\n",
        "print(propertyDetail[\"hasTerrace\"])\n",
        "print(propertyDetail[\"hasGarage\"])\n",
        "propertyDetail[\"hasTerrace\"] = False\n",
        "print(propertyDetail)"
      ],
      "metadata": {
        "colab": {
          "base_uri": "https://localhost:8080/"
        },
        "id": "vR29M5uF27OL",
        "outputId": "1938e679-7bce-42c7-fd6a-8ae8ab6943d3"
      },
      "execution_count": 63,
      "outputs": [
        {
          "output_type": "stream",
          "name": "stdout",
          "text": [
            "{'name': 'Khalid', 'age': 19, 'isMarried': False, 'job': 'Student'}\n",
            "1\n",
            "rumah\n",
            "True\n",
            "False\n",
            "{'numfloors': 1, 'propertyType': 'rumah', 'hasTerrace': False, 'hasGarage': False}\n"
          ]
        }
      ]
    }
  ]
}