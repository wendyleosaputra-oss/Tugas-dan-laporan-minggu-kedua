{
  "nbformat": 4,
  "nbformat_minor": 0,
  "metadata": {
    "colab": {
      "provenance": [],
      "authorship_tag": "ABX9TyMT05qMCkCyQlLgWMEBpbYR",
      "include_colab_link": true
    },
    "kernelspec": {
      "name": "python3",
      "display_name": "Python 3"
    },
    "language_info": {
      "name": "python"
    }
  },
  "cells": [
    {
      "cell_type": "markdown",
      "metadata": {
        "id": "view-in-github",
        "colab_type": "text"
      },
      "source": [
        "<a href=\"https://colab.research.google.com/github/wendyleosaputra-oss/Tugas-dan-laporan-minggu-kedua/blob/main/Untitled0.ipynb\" target=\"_parent\"><img src=\"https://colab.research.google.com/assets/colab-badge.svg\" alt=\"Open In Colab\"/></a>"
      ]
    },
    {
      "cell_type": "markdown",
      "source": [
        "Data type dictionary (dict)"
      ],
      "metadata": {
        "id": "khEDRcDJ7lVO"
      }
    },
    {
      "cell_type": "code",
      "execution_count": 20,
      "metadata": {
        "id": "aNsB497fqtFh",
        "colab": {
          "base_uri": "https://localhost:8080/"
        },
        "outputId": "f0e24f6a-91e3-4439-fc21-35ed7c069ddb"
      },
      "outputs": [
        {
          "output_type": "stream",
          "name": "stdout",
          "text": [
            "Nama depan: Wendy\n",
            "Nama belakang: leo_saputra\n",
            "umur: 19\n",
            "Sudah menikah: False\n"
          ]
        }
      ],
      "source": [
        "#Data diri\n",
        "Biodata_sendiri: dict[str,bool,int] = {\n",
        "    \"firstname\":\"Wendy\",\n",
        "    \"lastname\":\"leo_saputra\",\n",
        "    \"age\":19,\n",
        "    \"isMarried\":False\n",
        "}\n",
        "\n",
        "print(\"Nama depan:\",Biodata_sendiri[\"firstname\"])\n",
        "print(\"Nama belakang:\",Biodata_sendiri[\"lastname\"])\n",
        "print(\"umur:\",Biodata_sendiri[\"age\"])\n",
        "print(\"Sudah menikah:\",Biodata_sendiri[\"isMarried\"])"
      ]
    },
    {
      "cell_type": "code",
      "source": [],
      "metadata": {
        "id": "kybhhm3D7ka-"
      },
      "execution_count": null,
      "outputs": []
    }
  ]
}